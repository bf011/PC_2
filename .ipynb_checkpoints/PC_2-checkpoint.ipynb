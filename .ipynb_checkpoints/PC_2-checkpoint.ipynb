{
 "cells": [
  {
   "cell_type": "code",
   "execution_count": null,
   "id": "e41418c9-1c46-45b3-86d2-7183cb0857d7",
   "metadata": {},
   "outputs": [],
   "source": [
    "import pandas as pd\n",
    "\n",
    "#Importamos el archivo excel\n",
    "linkGit=\"https://github.com/bf011/PC_2/raw/refs/heads/main/HDI.xlsx\"\n",
    "\n",
    "dataE=pd.read_excel(linkGit)"
   ]
  },
  {
   "cell_type": "code",
   "execution_count": null,
   "id": "ccea5dff-f6f0-4cc9-aca6-de4e4456cb25",
   "metadata": {},
   "outputs": [],
   "source": [
    "dataE = dataE.iloc[0:191]"
   ]
  },
  {
   "cell_type": "code",
   "execution_count": 123,
   "id": "ae0adb5d-d235-4fc7-a9f4-5fc9fef48d52",
   "metadata": {},
   "outputs": [],
   "source": [
    "dataE = dataE.drop(index=range(0, 7))"
   ]
  },
  {
   "cell_type": "code",
   "execution_count": null,
   "id": "7edee60b-351b-44e0-9bb4-ac27bd10bfaf",
   "metadata": {},
   "outputs": [],
   "source": [
    "dataE_name= [\n",
    "    \"HDI_rank\", \"Country\", \"Human_Development_Index (HDI)\",\"n\", \"Life_expectancy_at_birth\", \"n\", \"Expected_years_of_schooling\", \"n\", \n",
    "    \"Mean_years_of_schooling\", \"n\", \"Gross_national_income_(GNI)_per_capita\", \"n\", \"GNI_per_capita_rank_minus_HDI_rank\", \"n\", \"HDI_rank_2\"\n",
    "]"
   ]
  },
  {
   "cell_type": "code",
   "execution_count": null,
   "id": "8edb253a-18d6-4e55-9b31-e03ed5ea758b",
   "metadata": {},
   "outputs": [],
   "source": [
    "{old:new for old,new in zip(dataE.columns,dataE_name)}"
   ]
  },
  {
   "cell_type": "code",
   "execution_count": null,
   "id": "b22c3f1b-154f-428f-be1f-464672d5192b",
   "metadata": {},
   "outputs": [],
   "source": [
    "dataE.rename(columns={old:new for old,new in zip(dataE.columns,dataE_name)},inplace=True)\n",
    "dataE.info()"
   ]
  },
  {
   "cell_type": "code",
   "execution_count": null,
   "id": "488bfc0f-7b31-4914-83d6-e5a7bad636ec",
   "metadata": {},
   "outputs": [],
   "source": [
    "dataE = dataE.drop(columns=[\"n\", \"HDI_rank_repeat\"], errors=\"ignore\")"
   ]
  },
  {
   "cell_type": "code",
   "execution_count": null,
   "id": "5d395044-d3a5-49b3-a0ab-9588eb96e518",
   "metadata": {},
   "outputs": [],
   "source": []
  },
  {
   "cell_type": "code",
   "execution_count": null,
   "id": "a2bd4065-e9dd-459a-b1f3-7bc7a754b1d2",
   "metadata": {},
   "outputs": [],
   "source": [
    "dataE"
   ]
  },
  {
   "cell_type": "code",
   "execution_count": null,
   "id": "b4577eca-925d-4954-9a28-525f478b018a",
   "metadata": {},
   "outputs": [],
   "source": []
  },
  {
   "cell_type": "code",
   "execution_count": null,
   "id": "3dca64da-e00d-42c6-b7a5-467ded1ec852",
   "metadata": {},
   "outputs": [],
   "source": [
    "len(dataE.columns)"
   ]
  },
  {
   "cell_type": "code",
   "execution_count": null,
   "id": "21cfab6e-05c8-4248-b467-f86fa062b8e3",
   "metadata": {},
   "outputs": [],
   "source": []
  },
  {
   "cell_type": "code",
   "execution_count": null,
   "id": "04640543-ee67-44aa-9d77-da892aae156a",
   "metadata": {},
   "outputs": [],
   "source": []
  },
  {
   "cell_type": "code",
   "execution_count": null,
   "id": "d14a7b63-14ea-426b-bf92-6540c38e2572",
   "metadata": {},
   "outputs": [],
   "source": []
  }
 ],
 "metadata": {
  "kernelspec": {
   "display_name": "Python 3 (ipykernel)",
   "language": "python",
   "name": "python3"
  },
  "language_info": {
   "codemirror_mode": {
    "name": "ipython",
    "version": 3
   },
   "file_extension": ".py",
   "mimetype": "text/x-python",
   "name": "python",
   "nbconvert_exporter": "python",
   "pygments_lexer": "ipython3",
   "version": "3.11.11"
  }
 },
 "nbformat": 4,
 "nbformat_minor": 5
}
