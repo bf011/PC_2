{
 "cells": [
  {
   "cell_type": "code",
   "execution_count": 1,
   "id": "e41418c9-1c46-45b3-86d2-7183cb0857d7",
   "metadata": {},
   "outputs": [],
   "source": [
    "import pandas as pd\n",
    "\n",
    "#Importamos el archivo excel\n",
    "linkGit=\"https://github.com/bf011/PC_2/raw/refs/heads/main/HDI.xlsx\"\n",
    "\n",
    "dataE=pd.read_excel(linkGit)"
   ]
  },
  {
   "cell_type": "code",
   "execution_count": 2,
   "id": "ccea5dff-f6f0-4cc9-aca6-de4e4456cb25",
   "metadata": {},
   "outputs": [],
   "source": [
    "dataE = dataE.iloc[7:201]"
   ]
  },
  {
   "cell_type": "code",
   "execution_count": 3,
   "id": "ced5482f-9e3f-4197-b60b-56656bc904c6",
   "metadata": {},
   "outputs": [
    {
     "data": {
      "text/plain": [
       "15"
      ]
     },
     "execution_count": 3,
     "metadata": {},
     "output_type": "execute_result"
    }
   ],
   "source": [
    "len(dataE.columns)"
   ]
  },
  {
   "cell_type": "code",
   "execution_count": 4,
   "id": "7edee60b-351b-44e0-9bb4-ac27bd10bfaf",
   "metadata": {},
   "outputs": [],
   "source": [
    "dataE_name= [\n",
    "    \"HDI_rank\", \"Country\", \"Human_Development_Index\",\"n\", \"Life_expectancy_at_birth\", \"n\", \"Expected_years_of_schooling\", \"n\", \n",
    "    \"Mean_years_of_schooling\", \"n\", \"Gross_national_income_per_capita\", \"n\", \"GNI_per_capita_rank_minus_HDI_rank\", \"n\", \"HDI_rank_2\"\n",
    "]"
   ]
  },
  {
   "cell_type": "code",
   "execution_count": 5,
   "id": "8edb253a-18d6-4e55-9b31-e03ed5ea758b",
   "metadata": {},
   "outputs": [
    {
     "data": {
      "text/plain": [
       "{'Back': 'HDI_rank',\n",
       " 'Table 1. Human Development Index and its components ': 'Country',\n",
       " 'Unnamed: 2': 'Human_Development_Index',\n",
       " 'Unnamed: 3': 'n',\n",
       " 'Unnamed: 4': 'Life_expectancy_at_birth',\n",
       " 'Unnamed: 5': 'n',\n",
       " 'Unnamed: 6': 'Expected_years_of_schooling',\n",
       " 'Unnamed: 7': 'n',\n",
       " 'Unnamed: 8': 'Mean_years_of_schooling',\n",
       " 'Unnamed: 9': 'n',\n",
       " 'Unnamed: 10': 'Gross_national_income_per_capita',\n",
       " 'Unnamed: 11': 'n',\n",
       " 'Unnamed: 12': 'GNI_per_capita_rank_minus_HDI_rank',\n",
       " 'Unnamed: 13': 'n',\n",
       " 'Unnamed: 14': 'HDI_rank_2'}"
      ]
     },
     "execution_count": 5,
     "metadata": {},
     "output_type": "execute_result"
    }
   ],
   "source": [
    "{old:new for old,new in zip(dataE.columns,dataE_name)}"
   ]
  },
  {
   "cell_type": "code",
   "execution_count": 6,
   "id": "b22c3f1b-154f-428f-be1f-464672d5192b",
   "metadata": {},
   "outputs": [
    {
     "name": "stdout",
     "output_type": "stream",
     "text": [
      "<class 'pandas.core.frame.DataFrame'>\n",
      "RangeIndex: 194 entries, 7 to 200\n",
      "Data columns (total 15 columns):\n",
      " #   Column                              Non-Null Count  Dtype  \n",
      "---  ------                              --------------  -----  \n",
      " 0   HDI_rank                            191 non-null    object \n",
      " 1   Country                             194 non-null    object \n",
      " 2   Human_Development_Index             191 non-null    object \n",
      " 3   n                                   0 non-null      float64\n",
      " 4   Life_expectancy_at_birth            191 non-null    object \n",
      " 5   n                                   1 non-null      object \n",
      " 6   Expected_years_of_schooling         191 non-null    object \n",
      " 7   n                                   98 non-null     object \n",
      " 8   Mean_years_of_schooling             191 non-null    object \n",
      " 9   n                                   86 non-null     object \n",
      " 10  Gross_national_income_per_capita    191 non-null    object \n",
      " 11  n                                   11 non-null     object \n",
      " 12  GNI_per_capita_rank_minus_HDI_rank  191 non-null    object \n",
      " 13  n                                   0 non-null      object \n",
      " 14  HDI_rank_2                          191 non-null    object \n",
      "dtypes: float64(1), object(14)\n",
      "memory usage: 22.9+ KB\n"
     ]
    }
   ],
   "source": [
    "dataE.rename(columns={old:new for old,new in zip(dataE.columns,dataE_name)},inplace=True)\n",
    "dataE.info()"
   ]
  },
  {
   "cell_type": "code",
   "execution_count": 7,
   "id": "488bfc0f-7b31-4914-83d6-e5a7bad636ec",
   "metadata": {},
   "outputs": [],
   "source": [
    "dataE = dataE.drop(columns=[\"n\",\"HDI_rank\", \"GNI_per_capita_rank_minus_HDI_rank\", \"HDI_rank_2\"], errors=\"ignore\")"
   ]
  },
  {
   "cell_type": "code",
   "execution_count": null,
   "id": "5d395044-d3a5-49b3-a0ab-9588eb96e518",
   "metadata": {},
   "outputs": [],
   "source": []
  },
  {
   "cell_type": "code",
   "execution_count": 8,
   "id": "012686c5-4b99-4e00-a72b-d5e41142dfac",
   "metadata": {},
   "outputs": [],
   "source": [
    "dataE['Human_Development_Index']=pd.to_numeric(dataE.Human_Development_Index)"
   ]
  },
  {
   "cell_type": "code",
   "execution_count": 9,
   "id": "480356cb-9581-4ac6-80a7-49cf7f02a6ab",
   "metadata": {},
   "outputs": [],
   "source": [
    "dataE['Life_expectancy_at_birth']=pd.to_numeric(dataE.Life_expectancy_at_birth)"
   ]
  },
  {
   "cell_type": "code",
   "execution_count": 10,
   "id": "477beef4-18a9-41aa-bc69-55a682ab61cc",
   "metadata": {},
   "outputs": [],
   "source": [
    "dataE['Expected_years_of_schooling']=pd.to_numeric(dataE.Expected_years_of_schooling)"
   ]
  },
  {
   "cell_type": "code",
   "execution_count": 11,
   "id": "8901fc16-4e61-45af-96fe-90c4dfdf45dc",
   "metadata": {},
   "outputs": [],
   "source": [
    "dataE['Mean_years_of_schooling']=pd.to_numeric(dataE.Mean_years_of_schooling)"
   ]
  },
  {
   "cell_type": "code",
   "execution_count": 12,
   "id": "a773e59b-d6ee-47b1-a82d-a74248ae50b8",
   "metadata": {},
   "outputs": [],
   "source": [
    "dataE['Gross_national_income_per_capita']=pd.to_numeric(dataE.Gross_national_income_per_capita)"
   ]
  },
  {
   "cell_type": "code",
   "execution_count": 13,
   "id": "b4577eca-925d-4954-9a28-525f478b018a",
   "metadata": {},
   "outputs": [
    {
     "name": "stdout",
     "output_type": "stream",
     "text": [
      "<class 'pandas.core.frame.DataFrame'>\n",
      "RangeIndex: 194 entries, 7 to 200\n",
      "Data columns (total 6 columns):\n",
      " #   Column                            Non-Null Count  Dtype  \n",
      "---  ------                            --------------  -----  \n",
      " 0   Country                           194 non-null    object \n",
      " 1   Human_Development_Index           191 non-null    float64\n",
      " 2   Life_expectancy_at_birth          191 non-null    float64\n",
      " 3   Expected_years_of_schooling       191 non-null    float64\n",
      " 4   Mean_years_of_schooling           191 non-null    float64\n",
      " 5   Gross_national_income_per_capita  191 non-null    float64\n",
      "dtypes: float64(5), object(1)\n",
      "memory usage: 9.2+ KB\n"
     ]
    }
   ],
   "source": [
    "dataE.info()"
   ]
  },
  {
   "cell_type": "code",
   "execution_count": 14,
   "id": "e557a083-849e-4adc-8f39-f2431e0d22b0",
   "metadata": {},
   "outputs": [],
   "source": [
    "columnas = [\n",
    "    'Life_expectancy_at_birth',\n",
    "    'Expected_years_of_schooling',\n",
    "    'Mean_years_of_schooling',\n",
    "]"
   ]
  },
  {
   "cell_type": "code",
   "execution_count": 15,
   "id": "6dbd16e7-dc8d-4232-be78-c08367ef7445",
   "metadata": {},
   "outputs": [],
   "source": [
    "dataE[columnas] = dataE[columnas].round(1)"
   ]
  },
  {
   "cell_type": "code",
   "execution_count": 16,
   "id": "0f154c5e-fe0c-4ce3-8557-9880ff0f1ae7",
   "metadata": {},
   "outputs": [],
   "source": [
    "dataE['Gross_national_income_per_capita'] = dataE['Gross_national_income_per_capita'].round(2)"
   ]
  },
  {
   "cell_type": "code",
   "execution_count": 21,
   "id": "f5afbfc5-56b6-4373-9416-5fd7bda45f99",
   "metadata": {},
   "outputs": [],
   "source": [
    "dataE['category']=pd.cut(dataE.Human_Development_Index,\n",
    "                           bins=[0.384,0.549,0.699,0.796,0.962],\n",
    "                           labels=['LOW HUMAN DEVELOPMENT','MEDIUM HUMAN DEVELOPMENT','HIGH HUMAN DEVELOPMENT','VERY HIGH HUMAN DEVELOPMENT'],\n",
    "                           ordered=True)"
   ]
  },
  {
   "cell_type": "code",
   "execution_count": 22,
   "id": "04640543-ee67-44aa-9d77-da892aae156a",
   "metadata": {},
   "outputs": [],
   "source": [
    "subtitulos=dataE[dataE['Country'].str.contains('HUMAN DEVELOPMENT',na=False)].index\n"
   ]
  },
  {
   "cell_type": "code",
   "execution_count": 23,
   "id": "d14a7b63-14ea-426b-bf92-6540c38e2572",
   "metadata": {},
   "outputs": [],
   "source": [
    "dataE=dataE.drop(subtitulos)"
   ]
  },
  {
   "cell_type": "code",
   "execution_count": 24,
   "id": "3dca64da-e00d-42c6-b7a5-467ded1ec852",
   "metadata": {},
   "outputs": [
    {
     "data": {
      "text/html": [
       "<div>\n",
       "<style scoped>\n",
       "    .dataframe tbody tr th:only-of-type {\n",
       "        vertical-align: middle;\n",
       "    }\n",
       "\n",
       "    .dataframe tbody tr th {\n",
       "        vertical-align: top;\n",
       "    }\n",
       "\n",
       "    .dataframe thead th {\n",
       "        text-align: right;\n",
       "    }\n",
       "</style>\n",
       "<table border=\"1\" class=\"dataframe\">\n",
       "  <thead>\n",
       "    <tr style=\"text-align: right;\">\n",
       "      <th></th>\n",
       "      <th>Country</th>\n",
       "      <th>Human_Development_Index</th>\n",
       "      <th>Life_expectancy_at_birth</th>\n",
       "      <th>Expected_years_of_schooling</th>\n",
       "      <th>Mean_years_of_schooling</th>\n",
       "      <th>Gross_national_income_per_capita</th>\n",
       "      <th>category</th>\n",
       "    </tr>\n",
       "  </thead>\n",
       "  <tbody>\n",
       "    <tr>\n",
       "      <th>7</th>\n",
       "      <td>Switzerland</td>\n",
       "      <td>0.962</td>\n",
       "      <td>84.0</td>\n",
       "      <td>16.5</td>\n",
       "      <td>13.9</td>\n",
       "      <td>66933.00</td>\n",
       "      <td>VERY HIGH HUMAN DEVELOPMENT</td>\n",
       "    </tr>\n",
       "    <tr>\n",
       "      <th>8</th>\n",
       "      <td>Norway</td>\n",
       "      <td>0.961</td>\n",
       "      <td>83.2</td>\n",
       "      <td>18.2</td>\n",
       "      <td>13.0</td>\n",
       "      <td>64660.11</td>\n",
       "      <td>VERY HIGH HUMAN DEVELOPMENT</td>\n",
       "    </tr>\n",
       "    <tr>\n",
       "      <th>9</th>\n",
       "      <td>Iceland</td>\n",
       "      <td>0.959</td>\n",
       "      <td>82.7</td>\n",
       "      <td>19.2</td>\n",
       "      <td>13.8</td>\n",
       "      <td>55782.05</td>\n",
       "      <td>VERY HIGH HUMAN DEVELOPMENT</td>\n",
       "    </tr>\n",
       "    <tr>\n",
       "      <th>10</th>\n",
       "      <td>Hong Kong, China (SAR)</td>\n",
       "      <td>0.952</td>\n",
       "      <td>85.5</td>\n",
       "      <td>17.3</td>\n",
       "      <td>12.2</td>\n",
       "      <td>62606.85</td>\n",
       "      <td>VERY HIGH HUMAN DEVELOPMENT</td>\n",
       "    </tr>\n",
       "    <tr>\n",
       "      <th>11</th>\n",
       "      <td>Australia</td>\n",
       "      <td>0.951</td>\n",
       "      <td>84.5</td>\n",
       "      <td>21.1</td>\n",
       "      <td>12.7</td>\n",
       "      <td>49238.43</td>\n",
       "      <td>VERY HIGH HUMAN DEVELOPMENT</td>\n",
       "    </tr>\n",
       "    <tr>\n",
       "      <th>...</th>\n",
       "      <td>...</td>\n",
       "      <td>...</td>\n",
       "      <td>...</td>\n",
       "      <td>...</td>\n",
       "      <td>...</td>\n",
       "      <td>...</td>\n",
       "      <td>...</td>\n",
       "    </tr>\n",
       "    <tr>\n",
       "      <th>196</th>\n",
       "      <td>Burundi</td>\n",
       "      <td>0.426</td>\n",
       "      <td>61.7</td>\n",
       "      <td>10.7</td>\n",
       "      <td>3.1</td>\n",
       "      <td>731.79</td>\n",
       "      <td>LOW HUMAN DEVELOPMENT</td>\n",
       "    </tr>\n",
       "    <tr>\n",
       "      <th>197</th>\n",
       "      <td>Central African Republic</td>\n",
       "      <td>0.404</td>\n",
       "      <td>53.9</td>\n",
       "      <td>8.0</td>\n",
       "      <td>4.3</td>\n",
       "      <td>966.06</td>\n",
       "      <td>LOW HUMAN DEVELOPMENT</td>\n",
       "    </tr>\n",
       "    <tr>\n",
       "      <th>198</th>\n",
       "      <td>Niger</td>\n",
       "      <td>0.400</td>\n",
       "      <td>61.6</td>\n",
       "      <td>7.0</td>\n",
       "      <td>2.1</td>\n",
       "      <td>1239.87</td>\n",
       "      <td>LOW HUMAN DEVELOPMENT</td>\n",
       "    </tr>\n",
       "    <tr>\n",
       "      <th>199</th>\n",
       "      <td>Chad</td>\n",
       "      <td>0.394</td>\n",
       "      <td>52.5</td>\n",
       "      <td>8.0</td>\n",
       "      <td>2.6</td>\n",
       "      <td>1364.17</td>\n",
       "      <td>LOW HUMAN DEVELOPMENT</td>\n",
       "    </tr>\n",
       "    <tr>\n",
       "      <th>200</th>\n",
       "      <td>South Sudan</td>\n",
       "      <td>0.385</td>\n",
       "      <td>55.0</td>\n",
       "      <td>5.5</td>\n",
       "      <td>5.7</td>\n",
       "      <td>767.79</td>\n",
       "      <td>LOW HUMAN DEVELOPMENT</td>\n",
       "    </tr>\n",
       "  </tbody>\n",
       "</table>\n",
       "<p>191 rows × 7 columns</p>\n",
       "</div>"
      ],
      "text/plain": [
       "                      Country  Human_Development_Index  \\\n",
       "7                 Switzerland                    0.962   \n",
       "8                      Norway                    0.961   \n",
       "9                     Iceland                    0.959   \n",
       "10     Hong Kong, China (SAR)                    0.952   \n",
       "11                  Australia                    0.951   \n",
       "..                        ...                      ...   \n",
       "196                   Burundi                    0.426   \n",
       "197  Central African Republic                    0.404   \n",
       "198                     Niger                    0.400   \n",
       "199                      Chad                    0.394   \n",
       "200               South Sudan                    0.385   \n",
       "\n",
       "     Life_expectancy_at_birth  Expected_years_of_schooling  \\\n",
       "7                        84.0                         16.5   \n",
       "8                        83.2                         18.2   \n",
       "9                        82.7                         19.2   \n",
       "10                       85.5                         17.3   \n",
       "11                       84.5                         21.1   \n",
       "..                        ...                          ...   \n",
       "196                      61.7                         10.7   \n",
       "197                      53.9                          8.0   \n",
       "198                      61.6                          7.0   \n",
       "199                      52.5                          8.0   \n",
       "200                      55.0                          5.5   \n",
       "\n",
       "     Mean_years_of_schooling  Gross_national_income_per_capita  \\\n",
       "7                       13.9                          66933.00   \n",
       "8                       13.0                          64660.11   \n",
       "9                       13.8                          55782.05   \n",
       "10                      12.2                          62606.85   \n",
       "11                      12.7                          49238.43   \n",
       "..                       ...                               ...   \n",
       "196                      3.1                            731.79   \n",
       "197                      4.3                            966.06   \n",
       "198                      2.1                           1239.87   \n",
       "199                      2.6                           1364.17   \n",
       "200                      5.7                            767.79   \n",
       "\n",
       "                        category  \n",
       "7    VERY HIGH HUMAN DEVELOPMENT  \n",
       "8    VERY HIGH HUMAN DEVELOPMENT  \n",
       "9    VERY HIGH HUMAN DEVELOPMENT  \n",
       "10   VERY HIGH HUMAN DEVELOPMENT  \n",
       "11   VERY HIGH HUMAN DEVELOPMENT  \n",
       "..                           ...  \n",
       "196        LOW HUMAN DEVELOPMENT  \n",
       "197        LOW HUMAN DEVELOPMENT  \n",
       "198        LOW HUMAN DEVELOPMENT  \n",
       "199        LOW HUMAN DEVELOPMENT  \n",
       "200        LOW HUMAN DEVELOPMENT  \n",
       "\n",
       "[191 rows x 7 columns]"
      ]
     },
     "execution_count": 24,
     "metadata": {},
     "output_type": "execute_result"
    }
   ],
   "source": [
    "dataE"
   ]
  },
  {
   "cell_type": "code",
   "execution_count": null,
   "id": "21cfab6e-05c8-4248-b467-f86fa062b8e3",
   "metadata": {},
   "outputs": [],
   "source": []
  },
  {
   "cell_type": "code",
   "execution_count": null,
   "id": "11a4c161-5745-4316-bcdf-76789ebd3676",
   "metadata": {},
   "outputs": [],
   "source": []
  },
  {
   "cell_type": "code",
   "execution_count": null,
   "id": "e465576f-c2c1-4d70-bcdc-5f6088385073",
   "metadata": {},
   "outputs": [],
   "source": []
  },
  {
   "cell_type": "code",
   "execution_count": null,
   "id": "66af822c-2357-4713-8449-953d59cc641b",
   "metadata": {},
   "outputs": [],
   "source": []
  },
  {
   "cell_type": "code",
   "execution_count": null,
   "id": "04a29f76-16f7-4ce8-816d-001787a306f2",
   "metadata": {},
   "outputs": [],
   "source": []
  }
 ],
 "metadata": {
  "kernelspec": {
   "display_name": "Python 3 (ipykernel)",
   "language": "python",
   "name": "python3"
  },
  "language_info": {
   "codemirror_mode": {
    "name": "ipython",
    "version": 3
   },
   "file_extension": ".py",
   "mimetype": "text/x-python",
   "name": "python",
   "nbconvert_exporter": "python",
   "pygments_lexer": "ipython3",
   "version": "3.11.11"
  }
 },
 "nbformat": 4,
 "nbformat_minor": 5
}
