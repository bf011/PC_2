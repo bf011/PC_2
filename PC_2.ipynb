{
 "cells": [
  {
   "cell_type": "code",
   "execution_count": 123,
   "id": "e41418c9-1c46-45b3-86d2-7183cb0857d7",
   "metadata": {},
   "outputs": [],
   "source": [
    "import pandas as pd\n",
    "\n",
    "#Importamos el archivo excel\n",
    "linkGit=\"https://github.com/bf011/PC_2/raw/refs/heads/main/HDI.xlsx\"\n",
    "\n",
    "dataE=pd.read_excel(linkGit)"
   ]
  },
  {
   "cell_type": "code",
   "execution_count": 124,
   "id": "ccea5dff-f6f0-4cc9-aca6-de4e4456cb25",
   "metadata": {},
   "outputs": [],
   "source": [
    "dataE = dataE.iloc[7:192]"
   ]
  },
  {
   "cell_type": "code",
   "execution_count": 125,
   "id": "7edee60b-351b-44e0-9bb4-ac27bd10bfaf",
   "metadata": {},
   "outputs": [],
   "source": [
    "dataE_name= [\n",
    "    \"HDI_rank\", \"Country\", \"Human_Development_Index\",\"n\", \"Life_expectancy_at_birth\", \"n\", \"Expected_years_of_schooling\", \"n\", \n",
    "    \"Mean_years_of_schooling\", \"n\", \"Gross_national_income_per_capita\", \"n\", \"GNI_per_capita_rank_minus_HDI_rank\", \"n\", \"HDI_rank_2\"\n",
    "]"
   ]
  },
  {
   "cell_type": "code",
   "execution_count": 126,
   "id": "8edb253a-18d6-4e55-9b31-e03ed5ea758b",
   "metadata": {},
   "outputs": [
    {
     "data": {
      "text/plain": [
       "{'Back': 'HDI_rank',\n",
       " 'Table 1. Human Development Index and its components ': 'Country',\n",
       " 'Unnamed: 2': 'Human_Development_Index',\n",
       " 'Unnamed: 3': 'n',\n",
       " 'Unnamed: 4': 'Life_expectancy_at_birth',\n",
       " 'Unnamed: 5': 'n',\n",
       " 'Unnamed: 6': 'Expected_years_of_schooling',\n",
       " 'Unnamed: 7': 'n',\n",
       " 'Unnamed: 8': 'Mean_years_of_schooling',\n",
       " 'Unnamed: 9': 'n',\n",
       " 'Unnamed: 10': 'Gross_national_income_per_capita',\n",
       " 'Unnamed: 11': 'n',\n",
       " 'Unnamed: 12': 'GNI_per_capita_rank_minus_HDI_rank',\n",
       " 'Unnamed: 13': 'n',\n",
       " 'Unnamed: 14': 'HDI_rank_2'}"
      ]
     },
     "execution_count": 126,
     "metadata": {},
     "output_type": "execute_result"
    }
   ],
   "source": [
    "{old:new for old,new in zip(dataE.columns,dataE_name)}"
   ]
  },
  {
   "cell_type": "code",
   "execution_count": 127,
   "id": "b22c3f1b-154f-428f-be1f-464672d5192b",
   "metadata": {},
   "outputs": [
    {
     "name": "stdout",
     "output_type": "stream",
     "text": [
      "<class 'pandas.core.frame.DataFrame'>\n",
      "RangeIndex: 185 entries, 7 to 191\n",
      "Data columns (total 15 columns):\n",
      " #   Column                              Non-Null Count  Dtype  \n",
      "---  ------                              --------------  -----  \n",
      " 0   HDI_rank                            182 non-null    object \n",
      " 1   Country                             185 non-null    object \n",
      " 2   Human_Development_Index             182 non-null    object \n",
      " 3   n                                   0 non-null      float64\n",
      " 4   Life_expectancy_at_birth            182 non-null    object \n",
      " 5   n                                   1 non-null      object \n",
      " 6   Expected_years_of_schooling         182 non-null    object \n",
      " 7   n                                   91 non-null     object \n",
      " 8   Mean_years_of_schooling             182 non-null    object \n",
      " 9   n                                   80 non-null     object \n",
      " 10  Gross_national_income_per_capita    182 non-null    object \n",
      " 11  n                                   10 non-null     object \n",
      " 12  GNI_per_capita_rank_minus_HDI_rank  182 non-null    object \n",
      " 13  n                                   0 non-null      object \n",
      " 14  HDI_rank_2                          182 non-null    object \n",
      "dtypes: float64(1), object(14)\n",
      "memory usage: 21.8+ KB\n"
     ]
    }
   ],
   "source": [
    "dataE.rename(columns={old:new for old,new in zip(dataE.columns,dataE_name)},inplace=True)\n",
    "dataE.info()"
   ]
  },
  {
   "cell_type": "code",
   "execution_count": 128,
   "id": "488bfc0f-7b31-4914-83d6-e5a7bad636ec",
   "metadata": {},
   "outputs": [],
   "source": [
    "dataE = dataE.drop(columns=[\"n\", \"HDI_rank_repeat\"], errors=\"ignore\")"
   ]
  },
  {
   "cell_type": "code",
   "execution_count": 129,
   "id": "5d395044-d3a5-49b3-a0ab-9588eb96e518",
   "metadata": {},
   "outputs": [],
   "source": [
    "commaToDotP=lambda xString:float(re.sub(\",\",\".\",xString))"
   ]
  },
  {
   "cell_type": "code",
   "execution_count": 130,
   "id": "e557a083-849e-4adc-8f39-f2431e0d22b0",
   "metadata": {},
   "outputs": [],
   "source": [
    "columnas = [\n",
    "    'Life_expectancy_at_birth',\n",
    "    'Expected_years_of_schooling',\n",
    "    'Mean_years_of_schooling',\n",
    "    'Gross_national_income_per_capita'\n",
    "]"
   ]
  },
  {
   "cell_type": "code",
   "execution_count": 131,
   "id": "012686c5-4b99-4e00-a72b-d5e41142dfac",
   "metadata": {},
   "outputs": [],
   "source": [
    "dataE['Life_expectancy_at_birth']=pd.to_numeric(dataE.Life_expectancy_at_birth)"
   ]
  },
  {
   "cell_type": "code",
   "execution_count": 132,
   "id": "477beef4-18a9-41aa-bc69-55a682ab61cc",
   "metadata": {},
   "outputs": [],
   "source": [
    "dataE['Expected_years_of_schooling']=pd.to_numeric(dataE.Expected_years_of_schooling)"
   ]
  },
  {
   "cell_type": "code",
   "execution_count": 133,
   "id": "8901fc16-4e61-45af-96fe-90c4dfdf45dc",
   "metadata": {},
   "outputs": [],
   "source": [
    "dataE['Mean_years_of_schooling']=pd.to_numeric(dataE.Mean_years_of_schooling)"
   ]
  },
  {
   "cell_type": "code",
   "execution_count": 134,
   "id": "a773e59b-d6ee-47b1-a82d-a74248ae50b8",
   "metadata": {},
   "outputs": [],
   "source": [
    "dataE['Gross_national_income_per_capita']=pd.to_numeric(dataE.Gross_national_income_per_capita)"
   ]
  },
  {
   "cell_type": "code",
   "execution_count": 135,
   "id": "b4577eca-925d-4954-9a28-525f478b018a",
   "metadata": {},
   "outputs": [
    {
     "name": "stdout",
     "output_type": "stream",
     "text": [
      "<class 'pandas.core.frame.DataFrame'>\n",
      "RangeIndex: 185 entries, 7 to 191\n",
      "Data columns (total 9 columns):\n",
      " #   Column                              Non-Null Count  Dtype  \n",
      "---  ------                              --------------  -----  \n",
      " 0   HDI_rank                            182 non-null    object \n",
      " 1   Country                             185 non-null    object \n",
      " 2   Human_Development_Index             182 non-null    object \n",
      " 3   Life_expectancy_at_birth            182 non-null    float64\n",
      " 4   Expected_years_of_schooling         182 non-null    float64\n",
      " 5   Mean_years_of_schooling             182 non-null    float64\n",
      " 6   Gross_national_income_per_capita    182 non-null    float64\n",
      " 7   GNI_per_capita_rank_minus_HDI_rank  182 non-null    object \n",
      " 8   HDI_rank_2                          182 non-null    object \n",
      "dtypes: float64(4), object(5)\n",
      "memory usage: 13.1+ KB\n"
     ]
    }
   ],
   "source": [
    "dataE.info()"
   ]
  },
  {
   "cell_type": "code",
   "execution_count": 136,
   "id": "6dbd16e7-dc8d-4232-be78-c08367ef7445",
   "metadata": {},
   "outputs": [],
   "source": [
    "dataE[columnas] = dataE[columnas].round(2)"
   ]
  },
  {
   "cell_type": "code",
   "execution_count": 139,
   "id": "f5afbfc5-56b6-4373-9416-5fd7bda45f99",
   "metadata": {},
   "outputs": [],
   "source": [
    "dataE['category']=pd.cut(dataE.Human_Development_Index,\n",
    "                           bins=[0.385,0.549,0.699,0.796,0.962],\n",
    "                           labels=['LOW HUMAN DEVELOPMENT','MEDIUM HUMAN DEVELOPMENT','HIGH HUMAN DEVELOPMENT','VERY HIGH HUMAN DEVELOPMENT'],\n",
    "                           ordered=True)"
   ]
  },
  {
   "cell_type": "code",
   "execution_count": 142,
   "id": "3dca64da-e00d-42c6-b7a5-467ded1ec852",
   "metadata": {},
   "outputs": [
    {
     "data": {
      "text/html": [
       "<div>\n",
       "<style scoped>\n",
       "    .dataframe tbody tr th:only-of-type {\n",
       "        vertical-align: middle;\n",
       "    }\n",
       "\n",
       "    .dataframe tbody tr th {\n",
       "        vertical-align: top;\n",
       "    }\n",
       "\n",
       "    .dataframe thead th {\n",
       "        text-align: right;\n",
       "    }\n",
       "</style>\n",
       "<table border=\"1\" class=\"dataframe\">\n",
       "  <thead>\n",
       "    <tr style=\"text-align: right;\">\n",
       "      <th></th>\n",
       "      <th>HDI_rank</th>\n",
       "      <th>Country</th>\n",
       "      <th>Human_Development_Index</th>\n",
       "      <th>Life_expectancy_at_birth</th>\n",
       "      <th>Expected_years_of_schooling</th>\n",
       "      <th>Mean_years_of_schooling</th>\n",
       "      <th>Gross_national_income_per_capita</th>\n",
       "      <th>GNI_per_capita_rank_minus_HDI_rank</th>\n",
       "      <th>HDI_rank_2</th>\n",
       "      <th>category</th>\n",
       "    </tr>\n",
       "  </thead>\n",
       "  <tbody>\n",
       "    <tr>\n",
       "      <th>7</th>\n",
       "      <td>1</td>\n",
       "      <td>Switzerland</td>\n",
       "      <td>0.962</td>\n",
       "      <td>83.99</td>\n",
       "      <td>16.50</td>\n",
       "      <td>13.86</td>\n",
       "      <td>66933.00</td>\n",
       "      <td>5</td>\n",
       "      <td>3</td>\n",
       "      <td>VERY HIGH HUMAN DEVELOPMENT</td>\n",
       "    </tr>\n",
       "    <tr>\n",
       "      <th>8</th>\n",
       "      <td>2</td>\n",
       "      <td>Norway</td>\n",
       "      <td>0.961</td>\n",
       "      <td>83.23</td>\n",
       "      <td>18.19</td>\n",
       "      <td>13.00</td>\n",
       "      <td>64660.11</td>\n",
       "      <td>6</td>\n",
       "      <td>1</td>\n",
       "      <td>VERY HIGH HUMAN DEVELOPMENT</td>\n",
       "    </tr>\n",
       "    <tr>\n",
       "      <th>9</th>\n",
       "      <td>3</td>\n",
       "      <td>Iceland</td>\n",
       "      <td>0.959</td>\n",
       "      <td>82.68</td>\n",
       "      <td>19.16</td>\n",
       "      <td>13.77</td>\n",
       "      <td>55782.05</td>\n",
       "      <td>11</td>\n",
       "      <td>2</td>\n",
       "      <td>VERY HIGH HUMAN DEVELOPMENT</td>\n",
       "    </tr>\n",
       "    <tr>\n",
       "      <th>10</th>\n",
       "      <td>4</td>\n",
       "      <td>Hong Kong, China (SAR)</td>\n",
       "      <td>0.952</td>\n",
       "      <td>85.47</td>\n",
       "      <td>17.28</td>\n",
       "      <td>12.23</td>\n",
       "      <td>62606.85</td>\n",
       "      <td>6</td>\n",
       "      <td>4</td>\n",
       "      <td>VERY HIGH HUMAN DEVELOPMENT</td>\n",
       "    </tr>\n",
       "    <tr>\n",
       "      <th>11</th>\n",
       "      <td>5</td>\n",
       "      <td>Australia</td>\n",
       "      <td>0.951</td>\n",
       "      <td>84.53</td>\n",
       "      <td>21.05</td>\n",
       "      <td>12.73</td>\n",
       "      <td>49238.43</td>\n",
       "      <td>18</td>\n",
       "      <td>5</td>\n",
       "      <td>VERY HIGH HUMAN DEVELOPMENT</td>\n",
       "    </tr>\n",
       "    <tr>\n",
       "      <th>...</th>\n",
       "      <td>...</td>\n",
       "      <td>...</td>\n",
       "      <td>...</td>\n",
       "      <td>...</td>\n",
       "      <td>...</td>\n",
       "      <td>...</td>\n",
       "      <td>...</td>\n",
       "      <td>...</td>\n",
       "      <td>...</td>\n",
       "      <td>...</td>\n",
       "    </tr>\n",
       "    <tr>\n",
       "      <th>187</th>\n",
       "      <td>178</td>\n",
       "      <td>Liberia</td>\n",
       "      <td>0.481</td>\n",
       "      <td>60.75</td>\n",
       "      <td>10.42</td>\n",
       "      <td>5.08</td>\n",
       "      <td>1288.74</td>\n",
       "      <td>7</td>\n",
       "      <td>179</td>\n",
       "      <td>LOW HUMAN DEVELOPMENT</td>\n",
       "    </tr>\n",
       "    <tr>\n",
       "      <th>188</th>\n",
       "      <td>179</td>\n",
       "      <td>Congo (Democratic Republic of the)</td>\n",
       "      <td>0.479</td>\n",
       "      <td>59.19</td>\n",
       "      <td>9.82</td>\n",
       "      <td>7.02</td>\n",
       "      <td>1076.10</td>\n",
       "      <td>9</td>\n",
       "      <td>180</td>\n",
       "      <td>LOW HUMAN DEVELOPMENT</td>\n",
       "    </tr>\n",
       "    <tr>\n",
       "      <th>189</th>\n",
       "      <td>180</td>\n",
       "      <td>Afghanistan</td>\n",
       "      <td>0.478</td>\n",
       "      <td>61.98</td>\n",
       "      <td>10.26</td>\n",
       "      <td>2.99</td>\n",
       "      <td>1824.19</td>\n",
       "      <td>-2</td>\n",
       "      <td>177</td>\n",
       "      <td>LOW HUMAN DEVELOPMENT</td>\n",
       "    </tr>\n",
       "    <tr>\n",
       "      <th>190</th>\n",
       "      <td>181</td>\n",
       "      <td>Sierra Leone</td>\n",
       "      <td>0.477</td>\n",
       "      <td>60.06</td>\n",
       "      <td>9.57</td>\n",
       "      <td>4.58</td>\n",
       "      <td>1621.51</td>\n",
       "      <td>-1</td>\n",
       "      <td>181</td>\n",
       "      <td>LOW HUMAN DEVELOPMENT</td>\n",
       "    </tr>\n",
       "    <tr>\n",
       "      <th>191</th>\n",
       "      <td>182</td>\n",
       "      <td>Guinea</td>\n",
       "      <td>0.465</td>\n",
       "      <td>58.89</td>\n",
       "      <td>9.81</td>\n",
       "      <td>2.20</td>\n",
       "      <td>2480.89</td>\n",
       "      <td>-13</td>\n",
       "      <td>182</td>\n",
       "      <td>LOW HUMAN DEVELOPMENT</td>\n",
       "    </tr>\n",
       "  </tbody>\n",
       "</table>\n",
       "<p>185 rows × 10 columns</p>\n",
       "</div>"
      ],
      "text/plain": [
       "    HDI_rank                             Country Human_Development_Index  \\\n",
       "7          1                         Switzerland                   0.962   \n",
       "8          2                              Norway                   0.961   \n",
       "9          3                             Iceland                   0.959   \n",
       "10         4              Hong Kong, China (SAR)                   0.952   \n",
       "11         5                           Australia                   0.951   \n",
       "..       ...                                 ...                     ...   \n",
       "187      178                             Liberia                   0.481   \n",
       "188      179  Congo (Democratic Republic of the)                   0.479   \n",
       "189      180                         Afghanistan                   0.478   \n",
       "190      181                        Sierra Leone                   0.477   \n",
       "191      182                              Guinea                   0.465   \n",
       "\n",
       "     Life_expectancy_at_birth  Expected_years_of_schooling  \\\n",
       "7                       83.99                        16.50   \n",
       "8                       83.23                        18.19   \n",
       "9                       82.68                        19.16   \n",
       "10                      85.47                        17.28   \n",
       "11                      84.53                        21.05   \n",
       "..                        ...                          ...   \n",
       "187                     60.75                        10.42   \n",
       "188                     59.19                         9.82   \n",
       "189                     61.98                        10.26   \n",
       "190                     60.06                         9.57   \n",
       "191                     58.89                         9.81   \n",
       "\n",
       "     Mean_years_of_schooling  Gross_national_income_per_capita  \\\n",
       "7                      13.86                          66933.00   \n",
       "8                      13.00                          64660.11   \n",
       "9                      13.77                          55782.05   \n",
       "10                     12.23                          62606.85   \n",
       "11                     12.73                          49238.43   \n",
       "..                       ...                               ...   \n",
       "187                     5.08                           1288.74   \n",
       "188                     7.02                           1076.10   \n",
       "189                     2.99                           1824.19   \n",
       "190                     4.58                           1621.51   \n",
       "191                     2.20                           2480.89   \n",
       "\n",
       "    GNI_per_capita_rank_minus_HDI_rank HDI_rank_2                     category  \n",
       "7                                    5          3  VERY HIGH HUMAN DEVELOPMENT  \n",
       "8                                    6          1  VERY HIGH HUMAN DEVELOPMENT  \n",
       "9                                   11          2  VERY HIGH HUMAN DEVELOPMENT  \n",
       "10                                   6          4  VERY HIGH HUMAN DEVELOPMENT  \n",
       "11                                  18          5  VERY HIGH HUMAN DEVELOPMENT  \n",
       "..                                 ...        ...                          ...  \n",
       "187                                  7        179        LOW HUMAN DEVELOPMENT  \n",
       "188                                  9        180        LOW HUMAN DEVELOPMENT  \n",
       "189                                 -2        177        LOW HUMAN DEVELOPMENT  \n",
       "190                                 -1        181        LOW HUMAN DEVELOPMENT  \n",
       "191                                -13        182        LOW HUMAN DEVELOPMENT  \n",
       "\n",
       "[185 rows x 10 columns]"
      ]
     },
     "execution_count": 142,
     "metadata": {},
     "output_type": "execute_result"
    }
   ],
   "source": [
    "dataE"
   ]
  },
  {
   "cell_type": "code",
   "execution_count": null,
   "id": "21cfab6e-05c8-4248-b467-f86fa062b8e3",
   "metadata": {},
   "outputs": [],
   "source": []
  },
  {
   "cell_type": "code",
   "execution_count": null,
   "id": "04640543-ee67-44aa-9d77-da892aae156a",
   "metadata": {},
   "outputs": [],
   "source": []
  },
  {
   "cell_type": "code",
   "execution_count": null,
   "id": "d14a7b63-14ea-426b-bf92-6540c38e2572",
   "metadata": {},
   "outputs": [],
   "source": []
  }
 ],
 "metadata": {
  "kernelspec": {
   "display_name": "Python 3 (ipykernel)",
   "language": "python",
   "name": "python3"
  },
  "language_info": {
   "codemirror_mode": {
    "name": "ipython",
    "version": 3
   },
   "file_extension": ".py",
   "mimetype": "text/x-python",
   "name": "python",
   "nbconvert_exporter": "python",
   "pygments_lexer": "ipython3",
   "version": "3.11.11"
  }
 },
 "nbformat": 4,
 "nbformat_minor": 5
}
